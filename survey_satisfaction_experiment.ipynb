{
 "cells": [
  {
   "cell_type": "code",
   "execution_count": 4,
   "metadata": {
    "collapsed": true
   },
   "outputs": [],
   "source": [
    "##reading data\n",
    "import json\n",
    "import pandas as pd\n",
    "\n",
    "filename='survey-patient-satisfaction.json'\n",
    "with open(filename, 'r', encoding=\"utf8\") as f:\n",
    "        data_json = json.load(f)\n",
    "\n",
    "df = pd.DataFrame(data_json)\n"
   ]
  },
  {
   "cell_type": "code",
   "execution_count": 64,
   "metadata": {
    "scrolled": true
   },
   "outputs": [
    {
     "data": {
      "text/plain": [
       "['prescription_id',\n",
       " 'আপনার শারীরিক পরীক্ষা এবং ডাক্তারের সাথে আলাপ কি সবার সামনে হয়েছে নাকি আলাদা ঘরে হয়েছে ?',\n",
       " 'আপনি কার পরামর্ষে এই সেবা টা গ্রহন করতে আসলেন ?',\n",
       " 'আপনি কি ওষুধপত্র সব কিনেছেন ?',\n",
       " 'আপনি কে বলছেন ?',\n",
       " 'আপনি ডাক্তারের ফি কত দিয়েছিলেন ?',\n",
       " 'ঢাকার ডাক্তার কি আপনাকে ঠিক ভাবে সালাম দিয়েছে ?',\n",
       " 'ঢাকার ডাক্তার কি আপনার অসুখ আপনাকে বুঝিয়েছে ?',\n",
       " 'ঢাকার ডাক্তারের এর ব্যবহার কেমন লেগেছে ?',\n",
       " 'পল্লীচিকিৎসক এর ব্যবহার কেমন লেগেছে ?',\n",
       " 'পল্লীচিকিৎসক কি আপনাকে ঔষধপত্র ঠিক মত বুঝিয়েছে ?',\n",
       " 'প্রযত্ন সেন্টার কি পরিষ্কার-পরিচ্ছন্ন ছিল নাকি নোংরা, ময়লা হয়ে ছিল?',\n",
       " 'সব মিলায় আপনার কত টাকা খরচ হয়েছিল ?',\n",
       " 'সে কি আপনাকে ঠিক ভাবে বিদায় দিয়েছে ?',\n",
       " 'সে কি আপনার সাথে আন্তরিকভাবে কথা বলেছে ?',\n",
       " 'সে কি কথা বলার সময় বিরক্ত হয়ে ছিল ?',\n",
       " 'সে কি ত্বরা হুড়া করেছিল আপনার সাথে কথা বলার সময় ?',\n",
       " 'সেবাটা আপনার কেমন লেগেছে ?']"
      ]
     },
     "execution_count": 64,
     "metadata": {},
     "output_type": "execute_result"
    }
   ],
   "source": [
    "# all column names\n",
    "list(df)"
   ]
  },
  {
   "cell_type": "code",
   "execution_count": 221,
   "metadata": {
    "collapsed": true
   },
   "outputs": [],
   "source": [
    "# making simplified column names keeping the serial of original question set\n",
    "simplified_columns=['p_id',#'prescription_id',\n",
    " 'exam_place',#'আপনার শারীরিক পরীক্ষা এবং ডাক্তারের সাথে আলাপ কি সবার সামনে হয়েছে নাকি আলাদা ঘরে হয়েছে ?',\n",
    " 'referrer',#'আপনি কার পরামর্ষে এই সেবা টা গ্রহন করতে আসলেন ?',\n",
    " 'all_medicine',#'আপনি কি ওষুধপত্র সব কিনেছেন ?',\n",
    " 'interviewee',#'আপনি কে বলছেন ?',\n",
    " 'fee',#'আপনি ডাক্তারের ফি কত দিয়েছিলেন ?',\n",
    " 'salam_dhaka',#'ঢাকার ডাক্তার কি আপনাকে ঠিক ভাবে সালাম দিয়েছে ?',\n",
    " 'medicine_explained_dhaka',#'ঢাকার ডাক্তার কি আপনার অসুখ আপনাকে বুঝিয়েছে ?',\n",
    " 'behavior_dhaka',#'ঢাকার ডাক্তারের এর ব্যবহার কেমন লেগেছে ?',\n",
    " 'behavior_local',#'পল্লীচিকিৎসক এর ব্যবহার কেমন লেগেছে ?',\n",
    " 'medicine_explained_local',#'পল্লীচিকিৎসক কি আপনাকে ঔষধপত্র ঠিক মত বুঝিয়েছে ?',\n",
    " 'environment',#'প্রযত্ন সেন্টার কি পরিষ্কার-পরিচ্ছন্ন ছিল নাকি নোংরা, ময়লা হয়ে ছিল?',\n",
    " 'total_cost',#'সব মিলায় আপনার কত টাকা খরচ হয়েছিল ?',\n",
    " 'proper_bye',#'সে কি আপনাকে ঠিক ভাবে বিদায় দিয়েছে ?',\n",
    " 'generous_talk',#'সে কি আপনার সাথে আন্তরিকভাবে কথা বলেছে ?',\n",
    " 'irritated_talk',#'সে কি কথা বলার সময় বিরক্ত হয়ে ছিল ?',\n",
    " 'hurried_talk',#'সে কি ত্বরা হুড়া করেছিল আপনার সাথে কথা বলার সময় ?',\n",
    " 'over_all_service',#'সেবাটা আপনার কেমন লেগেছে ?'\n",
    "                   ]\n",
    "df.columns=simplified_columns"
   ]
  },
  {
   "cell_type": "code",
   "execution_count": 231,
   "metadata": {
    "collapsed": true
   },
   "outputs": [],
   "source": [
    "## encoding responses\n",
    "from sklearn import preprocessing\n",
    "response_maps={}\n",
    "def encode_response(col):\n",
    "    le = preprocessing.LabelEncoder()\n",
    "    responses = col.unique()\n",
    "    le.fit(responses)\n",
    "    simple_response=le.transform(responses)\n",
    "    response_map={k:v for (k,v) in zip(simple_response, responses)}    \n",
    "    transformed = le.transform(col)\n",
    "    response_maps[col.name]=response_map\n",
    "    return transformed\n",
    "\n",
    "\n",
    "\n",
    "\n"
   ]
  },
  {
   "cell_type": "code",
   "execution_count": 222,
   "metadata": {},
   "outputs": [
    {
     "data": {
      "image/png": "[encoded data removed]",
      "text/plain": [
       "<matplotlib.figure.Figure at 0x7f1ebc10b080>"
      ]
     },
     "metadata": {},
     "output_type": "display_data"
    }
   ],
   "source": [
    "#max_referrer\n",
    "# -*- coding: utf-8 -*-\n",
    "from collections import Counter\n",
    "import matplotlib.font_manager as fm\n",
    "import matplotlib.pyplot as plt\n",
    "prop = fm.FontProperties(fname='Siyamrupali.ttf')\n",
    "\n",
    "plt.barh(range(10),df.referrer.value_counts()[:10].tolist())\n",
    "\n",
    "labels=list(df.referrer.value_counts()[:10].index)\n",
    "\n",
    "plt.yticks(range(10),labels, fontproperties=prop)\n",
    "\n",
    "plt.show()"
   ]
  },
  {
   "cell_type": "markdown",
   "metadata": {},
   "source": [
    "I'm now going to see if it's possible to make prediction whether the person bought all medicine or not from some factors"
   ]
  },
  {
   "cell_type": "code",
   "execution_count": 223,
   "metadata": {},
   "outputs": [
    {
     "data": {
      "text/plain": [
       "2    977\n",
       "1    817\n",
       "0     12\n",
       "Name: all_medicine, dtype: int64"
      ]
     },
     "execution_count": 223,
     "metadata": {},
     "output_type": "execute_result"
    }
   ],
   "source": [
    "#converting medicine response from text to numerical\n",
    "df.all_medicine=response_encoder(df.all_medicine)\n",
    "\n",
    "df.all_medicine.value_counts()"
   ]
  },
  {
   "cell_type": "code",
   "execution_count": 224,
   "metadata": {},
   "outputs": [
    {
     "data": {
      "text/plain": [
       "{0: 0, 1: 1, 2: 2}"
      ]
     },
     "execution_count": 224,
     "metadata": {},
     "output_type": "execute_result"
    }
   ],
   "source": [
    "#to make a sense of these responses\n",
    "response_maps['all_medicine']"
   ]
  },
  {
   "cell_type": "code",
   "execution_count": 228,
   "metadata": {
    "collapsed": true
   },
   "outputs": [],
   "source": [
    "#let's just extract only responses with হা and না\n",
    "mask = (df.all_medicine == 1) | (df.all_medicine == 2) \n",
    "medicine_case=df[mask]"
   ]
  },
  {
   "cell_type": "code",
   "execution_count": 229,
   "metadata": {
    "collapsed": true
   },
   "outputs": [],
   "source": [
    "#droping some columns\n",
    "droppable_columns=['p_id','referrer', 'fee', 'total_cost', 'interviewee','over_all_service']\n",
    "\n",
    "medicine_case_clean=medicine_case.drop(droppable_columns, axis=1)"
   ]
  },
  {
   "cell_type": "code",
   "execution_count": 230,
   "metadata": {},
   "outputs": [
    {
     "data": {
      "text/plain": [
       "['exam_place',\n",
       " 'all_medicine',\n",
       " 'salam_dhaka',\n",
       " 'medicine_explained_dhaka',\n",
       " 'behavior_dhaka',\n",
       " 'behavior_local',\n",
       " 'medicine_explained_local',\n",
       " 'environment',\n",
       " 'proper_bye',\n",
       " 'generous_talk',\n",
       " 'irritated_talk',\n",
       " 'hurried_talk']"
      ]
     },
     "execution_count": 230,
     "metadata": {},
     "output_type": "execute_result"
    }
   ],
   "source": [
    "list(medicine_case_clean)"
   ]
  },
  {
   "cell_type": "code",
   "execution_count": 236,
   "metadata": {
    "collapsed": true
   },
   "outputs": [],
   "source": [
    "#conveting all responses to numeric\n",
    "for col_name in list(medicine_case_clean):\n",
    "    medicine_case_clean[col_name]=encode_response(medicine_case_clean[col_name])"
   ]
  },
  {
   "cell_type": "code",
   "execution_count": 241,
   "metadata": {
    "collapsed": true
   },
   "outputs": [],
   "source": [
    "#splitting feature and label\n",
    "X=medicine_case_clean.drop(['all_medicine'], axis=1)\n",
    "y=medicine_case_clean.all_medicine"
   ]
  },
  {
   "cell_type": "code",
   "execution_count": 244,
   "metadata": {},
   "outputs": [
    {
     "data": {
      "text/plain": [
       "array([ 0.6       ,  0.53333333,  0.66111111,  0.66111111,  0.59444444,\n",
       "        0.58333333,  0.76111111,  0.70786517,  0.80337079,  0.80898876])"
      ]
     },
     "execution_count": 244,
     "metadata": {},
     "output_type": "execute_result"
    }
   ],
   "source": [
    "#splitting test and train\n",
    "from sklearn.model_selection import train_test_split\n",
    "from sklearn import svm\n",
    "from sklearn import neighbors\n",
    "from sklearn.model_selection import cross_val_score\n",
    "from sklearn.metrics import accuracy_score\n",
    "\n",
    "\n",
    "#clf = svm.SVC(kernel='linear', C=1,degree=3)\n",
    "clf = neighbors.KNeighborsClassifier(n_neighbors=30, leaf_size=100, algorithm='kd_tree', p=3)\n",
    "scores = cross_val_score(clf, X, y, cv=10)\n",
    "\n",
    "scores\n"
   ]
  },
  {
   "cell_type": "code",
   "execution_count": 247,
   "metadata": {},
   "outputs": [
    {
     "name": "stdout",
     "output_type": "stream",
     "text": [
      "Accuracy: 0.7632311977715878\n"
     ]
    }
   ],
   "source": [
    "from sklearn.neural_network import MLPClassifier\n",
    "\n",
    "X_train, X_test, y_train, y_test = train_test_split(X, y, random_state=0, test_size=0.20)\n",
    "\n",
    "clf = MLPClassifier(hidden_layer_sizes=(500,), solver=\"lbfgs\", verbose=True)\n",
    "clf.fit(X_train, y_train)\n",
    "pred=clf.predict(X_test)\n",
    "\n",
    "correct=0\n",
    "#print(pred)\n",
    "\n",
    "ytest=y_test.tolist()\n",
    "\n",
    "corr=0\n",
    "for i in range(len(pred)):\n",
    "    if pred[i]==ytest[i]:\n",
    "        corr+=1\n",
    "        \n",
    "print(\"Accuracy:\",corr/len(pred))\n"
   ]
  },
  {
   "cell_type": "markdown",
   "metadata": {},
   "source": [
    "As MLP gave some bump, let's see how does it actually looks"
   ]
  },
  {
   "cell_type": "code",
   "execution_count": 256,
   "metadata": {},
   "outputs": [
    {
     "data": {
      "text/plain": [
       "<matplotlib.axes._subplots.AxesSubplot at 0x7f1e9f665f28>"
      ]
     },
     "execution_count": 256,
     "metadata": {},
     "output_type": "execute_result"
    },
    {
     "data": {
      "image/png": "[encoded data removed]",
      "text/plain": [
       "<matplotlib.figure.Figure at 0x7f1e9f672438>"
      ]
     },
     "metadata": {},
     "output_type": "display_data"
    }
   ],
   "source": [
    "import seaborn as sns\n",
    "import numpy as np\n",
    "f, ax = plt.subplots(figsize=(10, 8))\n",
    "corr = medicine_case_clean.corr()\n",
    "sns.heatmap(corr, mask=np.zeros_like(corr, dtype=np.bool), cmap=sns.diverging_palette(220, 10, as_cmap=True),\n",
    "            square=True, ax=ax)"
   ]
  },
  {
   "cell_type": "markdown",
   "metadata": {},
   "source": [
    "From this plot it looks like , there might be some correlation between 'buying of all medicines' when medicines are explained by 'local_representative'.  "
   ]
  },
  {
   "cell_type": "markdown",
   "metadata": {},
   "source": [
    "### Now I'm trying to see if its possible to make prediction about diagnosis with symptoms"
   ]
  },
  {
   "cell_type": "code",
   "execution_count": 114,
   "metadata": {},
   "outputs": [
    {
     "name": "stdout",
     "output_type": "stream",
     "text": [
      "Index(['_id.$oid', 'appointment.booking_date', 'appointment.booking_duration',\n",
      "       'appointment.id.$oid', 'appointment.images.count',\n",
      "       'appointment.slot_end_time', 'appointment.slot_start_time',\n",
      "       'appointment.symptoms', 'appointment.vitals.bp_diastole',\n",
      "       'appointment.vitals.bp_systole', 'appointment.vitals.glucose',\n",
      "       'appointment.vitals.pulse', 'appointment.vitals.temperature',\n",
      "       'appointment.vitals.weight', 'doctor.credentials', 'doctor.id.$oid',\n",
      "       'doctor.name', 'doctor.registration_date', 'doctor.specialization',\n",
      "       'feedback.doctor.rating', 'feedback.doctor.red_flags',\n",
      "       'feedback.id.$oid', 'feedback.rmp.rating', 'feedback.rmp.red_flags',\n",
      "       'patient.age_now', 'patient.age_then', 'patient.birth_date',\n",
      "       'patient.id.$oid', 'patient.registration_date',\n",
      "       'patient.registration_duration', 'patient.sex', 'patient.village',\n",
      "       'prescription.advices', 'prescription.complaints',\n",
      "       'prescription.consultation_date', 'prescription.consultation_duration',\n",
      "       'prescription.consultation_type.is_followup',\n",
      "       'prescription.consultation_type.is_free',\n",
      "       'prescription.consultation_type.is_referred',\n",
      "       'prescription.diagnoses.differential', 'prescription.diagnoses.final',\n",
      "       'prescription.diagnoses.provisional', 'prescription.followup_date',\n",
      "       'prescription.history.allergy', 'prescription.history.chronic',\n",
      "       'prescription.history.drug', 'prescription.history.family',\n",
      "       'prescription.history.personal', 'prescription.id.$oid',\n",
      "       'prescription.id_str', 'prescription.investigations',\n",
      "       'prescription.medicines', 'prescription.rmp_symptoms', 'rmp.center',\n",
      "       'rmp.id.$oid', 'rmp.name', 'rmp.registration_date', 'rmp.villages'],\n",
      "      dtype='object')\n"
     ]
    }
   ],
   "source": [
    "from pandas.io.json import json_normalize\n",
    "from flatten_json import flatten\n",
    "from sklearn import preprocessing\n",
    "from pprint import pprint\n",
    "import pandas as pd\n",
    "presription_file = 'prescription-corpus-survey-2012-12-08.json'\n",
    "\n",
    "with open(presription_file, 'r', encoding=\"utf-8\") as f:\n",
    "    presciption_json = json.load(f)\n",
    "\n",
    "normalized = json_normalize(presciption_json)\n",
    "pprint(normalized.columns)"
   ]
  },
  {
   "cell_type": "code",
   "execution_count": 115,
   "metadata": {},
   "outputs": [],
   "source": [
    "#selecting just symptoms and diagnosises\n",
    "symptom_diagnosis  = normalized[['prescription.rmp_symptoms',\n",
    "                                 'prescription.diagnoses.provisional', \n",
    "                                 'prescription.diagnoses.final']]\n",
    "import numpy as np\n",
    "\n",
    "\n",
    "#taking only mutually non empty symptoms and diagnosises\n",
    "cleaned_symptom_diagnosis=symptom_diagnosis[(symptom_diagnosis['prescription.rmp_symptoms'].str.len()!=0) & \\\n",
    "                    (symptom_diagnosis['prescription.diagnoses.final'].str.len()!=0)] \n"
   ]
  },
  {
   "cell_type": "code",
   "execution_count": 116,
   "metadata": {},
   "outputs": [
    {
     "data": {
      "text/plain": [
       "(49, 3)"
      ]
     },
     "execution_count": 116,
     "metadata": {},
     "output_type": "execute_result"
    }
   ],
   "source": [
    "cleaned_symptom_diagnosis.shape"
   ]
  },
  {
   "cell_type": "code",
   "execution_count": null,
   "metadata": {
    "collapsed": true
   },
   "outputs": [],
   "source": []
  }
 ],
 "metadata": {
  "kernelspec": {
   "display_name": "Python 3",
   "language": "python",
   "name": "python3"
  },
  "language_info": {
   "codemirror_mode": {
    "name": "ipython",
    "version": 3
   },
   "file_extension": ".py",
   "mimetype": "text/x-python",
   "name": "python",
   "nbconvert_exporter": "python",
   "pygments_lexer": "ipython3",
   "version": "3.6.1"
  }
 },
 "nbformat": 4,
 "nbformat_minor": 2
}
